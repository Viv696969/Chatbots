{
 "cells": [
  {
   "cell_type": "code",
   "execution_count": 1,
   "id": "1e0287a9-d345-47a1-b431-40adb35bbb8f",
   "metadata": {},
   "outputs": [],
   "source": [
    "import mysql.connector as mysql"
   ]
  },
  {
   "cell_type": "code",
   "execution_count": 2,
   "id": "f64660c0-e694-4b23-8a96-c7cd8b73f8f8",
   "metadata": {},
   "outputs": [],
   "source": [
    "from pandas import *"
   ]
  },
  {
   "cell_type": "code",
   "execution_count": 17,
   "id": "330855fd-679d-431a-8684-52c338924889",
   "metadata": {},
   "outputs": [],
   "source": [
    "conn=mysql.connect(\n",
    "    host='localhost',\n",
    "    user='root',\n",
    "    password='varad1901',\n",
    "    database='chatbot_db'\n",
    ")"
   ]
  },
  {
   "cell_type": "code",
   "execution_count": 18,
   "id": "dcd9bd8e-2816-4b6e-804d-aa8e53355bf5",
   "metadata": {},
   "outputs": [],
   "source": [
    " cursor=conn.cursor()"
   ]
  },
  {
   "cell_type": "code",
   "execution_count": 19,
   "id": "f5dcd161-e576-47d1-901d-153801fe11f2",
   "metadata": {},
   "outputs": [],
   "source": [
    "query=\"Select name from movies;\""
   ]
  },
  {
   "cell_type": "code",
   "execution_count": 20,
   "id": "b0fe39b1-e4d9-4f0b-b3ad-342e339fdf96",
   "metadata": {},
   "outputs": [],
   "source": [
    "cursor.execute(query)"
   ]
  },
  {
   "cell_type": "code",
   "execution_count": 21,
   "id": "ab60d969-f927-41b9-b883-8b90ad53fe0f",
   "metadata": {},
   "outputs": [],
   "source": [
    "movies=\"\""
   ]
  },
  {
   "cell_type": "code",
   "execution_count": 22,
   "id": "233ea977-590b-4a65-a5a1-8cdf8ee4b092",
   "metadata": {},
   "outputs": [],
   "source": [
    "for i in cursor.fetchall():\n",
    "    movies+=i[0]+\" ,\""
   ]
  },
  {
   "cell_type": "code",
   "execution_count": 23,
   "id": "71e53c6f-7203-4809-a1a4-3f3cf9cc7e21",
   "metadata": {},
   "outputs": [
    {
     "data": {
      "text/plain": [
       "'Andhadhun ,Avengers : Infinity War ,KGF : Chapter 2 ,Oppenhiemer ,The Dark Knight ,Uri : The Surgical Strike ,'"
      ]
     },
     "execution_count": 23,
     "metadata": {},
     "output_type": "execute_result"
    }
   ],
   "source": [
    "movies"
   ]
  },
  {
   "cell_type": "code",
   "execution_count": 24,
   "id": "b7e5fedd-0ead-49d2-95f6-b40f6a814410",
   "metadata": {},
   "outputs": [
    {
     "data": {
      "text/plain": [
       "True"
      ]
     },
     "execution_count": 24,
     "metadata": {},
     "output_type": "execute_result"
    }
   ],
   "source": [
    "cursor.close()"
   ]
  },
  {
   "cell_type": "code",
   "execution_count": 19,
   "id": "9febddcd-bb45-4a66-9771-9ff8fccf52f7",
   "metadata": {},
   "outputs": [],
   "source": [
    "query='''\n",
    "select time \n",
    "from movies join show_times_table\n",
    "on movies.id=show_times_table.movie_id\n",
    "where name='Uri : The Surgical Strike';\n",
    "'''"
   ]
  },
  {
   "cell_type": "code",
   "execution_count": 23,
   "id": "976f5d5a-5f1b-4628-b6c5-a17e719a9c63",
   "metadata": {},
   "outputs": [],
   "source": [
    "cursor.execute(query)"
   ]
  },
  {
   "cell_type": "code",
   "execution_count": 22,
   "id": "7db2c079-3287-4d84-ba41-1d1a9195fecf",
   "metadata": {},
   "outputs": [
    {
     "data": {
      "text/plain": [
       "[('8 40 pm',), ('7 45 pm',), ('9 50 pm',)]"
      ]
     },
     "execution_count": 22,
     "metadata": {},
     "output_type": "execute_result"
    }
   ],
   "source": [
    "cursor.fetchall()"
   ]
  },
  {
   "cell_type": "code",
   "execution_count": 24,
   "id": "35e397af-c486-464d-a457-1e3574604725",
   "metadata": {},
   "outputs": [],
   "source": [
    "timings=\"\""
   ]
  },
  {
   "cell_type": "code",
   "execution_count": 25,
   "id": "6f70c39b-6403-4e08-82fb-cf91c15deb2c",
   "metadata": {},
   "outputs": [],
   "source": [
    "for i in cursor.fetchall():\n",
    "    timings+=i[0]+\",\""
   ]
  },
  {
   "cell_type": "code",
   "execution_count": 26,
   "id": "1c307edb-5771-412d-b0e0-eb96b6583cc2",
   "metadata": {},
   "outputs": [
    {
     "data": {
      "text/plain": [
       "'8 40 pm,7 45 pm,9 50 pm,'"
      ]
     },
     "execution_count": 26,
     "metadata": {},
     "output_type": "execute_result"
    }
   ],
   "source": [
    "timings"
   ]
  },
  {
   "cell_type": "code",
   "execution_count": 27,
   "id": "79c78346-54db-4c4a-9b43-188af0b23066",
   "metadata": {},
   "outputs": [],
   "source": [
    "query='''\n",
    "select time \n",
    "from movies join show_times_table\n",
    "on movies.id=show_times_table.movie_id\n",
    "where name='Uri : The Surgical Strike';\n",
    "'''"
   ]
  },
  {
   "cell_type": "code",
   "execution_count": 32,
   "id": "c0190247-eb5c-4a1c-91b7-5802650df6d0",
   "metadata": {},
   "outputs": [],
   "source": [
    "cursor.execute(query)"
   ]
  },
  {
   "cell_type": "code",
   "execution_count": 33,
   "id": "5c461044-5f52-4ed9-a642-51393b9f33bb",
   "metadata": {},
   "outputs": [],
   "source": [
    "is_present=False"
   ]
  },
  {
   "cell_type": "code",
   "execution_count": 34,
   "id": "b6df166a-6b28-45e0-b0fe-b945d45cb7ee",
   "metadata": {},
   "outputs": [
    {
     "name": "stdout",
     "output_type": "stream",
     "text": [
      "('8 40 pm',)\n",
      "('7 45 pm',)\n",
      "('9 50 pm',)\n"
     ]
    }
   ],
   "source": [
    "for i in cursor.fetchall():\n",
    "    print(i)\n",
    "    if \"11 30 pm\"==i[0]:\n",
    "        is_present=True"
   ]
  },
  {
   "cell_type": "code",
   "execution_count": 31,
   "id": "99605829-f667-45f5-b006-89f41066b495",
   "metadata": {},
   "outputs": [
    {
     "data": {
      "text/plain": [
       "False"
      ]
     },
     "execution_count": 31,
     "metadata": {},
     "output_type": "execute_result"
    }
   ],
   "source": [
    "is_present"
   ]
  },
  {
   "cell_type": "code",
   "execution_count": 18,
   "id": "6813d4e8-bb94-4b20-a15f-a35e615df968",
   "metadata": {},
   "outputs": [
    {
     "data": {
      "text/plain": [
       "(221,\n",
       " b'2.0.0 closing connection w19-20020a170902d11300b001e0501d3058sm11182420plw.63 - gsmtp')"
      ]
     },
     "execution_count": 18,
     "metadata": {},
     "output_type": "execute_result"
    }
   ],
   "source": [
    "\n",
    "import smtplib\n",
    "# creates SMTP session\n",
    "s = smtplib.SMTP('smtp.gmail.com', 587)\n",
    "# start TLS for security\n",
    "s.starttls()\n",
    "# Authentication\n",
    "s.login(\"vivek.211215.co@mhssce.ac.in\", \"varad1901\")\n",
    "# message to be sent\n",
    "message = \"abcd\"\n",
    "# sending the mail\n",
    "s.sendmail(\"sender_email_id\", \"chouhanvivek207@gmail.com\", message)\n",
    "# terminating the session\n",
    "s.quit()"
   ]
  },
  {
   "cell_type": "code",
   "execution_count": 29,
   "id": "294082fe-4360-4675-b666-ba49d6d0eb21",
   "metadata": {},
   "outputs": [],
   "source": [
    "query=\"select max(ticket_id) from bookings;\""
   ]
  },
  {
   "cell_type": "code",
   "execution_count": 27,
   "id": "51059133-c5aa-4d5b-b735-cf8bfb82db6f",
   "metadata": {},
   "outputs": [],
   "source": [
    "cursor=conn.cursor()"
   ]
  },
  {
   "cell_type": "code",
   "execution_count": 30,
   "id": "1b05eeb4-9041-469f-a703-03bfe2cd861d",
   "metadata": {},
   "outputs": [],
   "source": [
    "cursor.execute(query)"
   ]
  },
  {
   "cell_type": "code",
   "execution_count": 31,
   "id": "13e1825d-f9b7-41f7-91bf-91b58850d2ed",
   "metadata": {},
   "outputs": [],
   "source": [
    "cursor.fetchone()[0]"
   ]
  },
  {
   "cell_type": "code",
   "execution_count": 46,
   "id": "5e78a7f9-0cce-4021-8c14-da26300d4cbe",
   "metadata": {},
   "outputs": [],
   "source": [
    "query=\"select * from bookings\""
   ]
  },
  {
   "cell_type": "code",
   "execution_count": 44,
   "id": "0f3799e5-e437-4841-bfc5-e3e8f4e6ae14",
   "metadata": {},
   "outputs": [],
   "source": [
    "query='''\n",
    "insert into bookings values(\n",
    "2,\n",
    "\"abcd@gmail.com\",\n",
    "\"uri\",\n",
    "\"normal\",\n",
    "\"middle\",\n",
    "2,\n",
    "\"h1h1h1\",\n",
    "\"4 56 pm\",\n",
    "\"wdjwjknkjnn\"\n",
    ");\n",
    "'''"
   ]
  },
  {
   "cell_type": "code",
   "execution_count": 47,
   "id": "2709600b-e1ce-4399-8956-ccfc5876080e",
   "metadata": {},
   "outputs": [],
   "source": [
    "res=cursor.execute(query)"
   ]
  },
  {
   "cell_type": "code",
   "execution_count": 48,
   "id": "8d207787-9c31-45b5-80a6-64fde16ca51e",
   "metadata": {},
   "outputs": [
    {
     "data": {
      "text/plain": [
       "[(1,\n",
       "  'abcd@gmail.com',\n",
       "  'uri',\n",
       "  'normal',\n",
       "  'middle',\n",
       "  2,\n",
       "  'h1h1h1',\n",
       "  '4 56 pm',\n",
       "  'wdjwjknkjnn'),\n",
       " (2,\n",
       "  'abcd@gmail.com',\n",
       "  'uri',\n",
       "  'normal',\n",
       "  'middle',\n",
       "  2,\n",
       "  'h1h1h1',\n",
       "  '4 56 pm',\n",
       "  'wdjwjknkjnn')]"
      ]
     },
     "execution_count": 48,
     "metadata": {},
     "output_type": "execute_result"
    }
   ],
   "source": [
    "cursor.fetchall()"
   ]
  },
  {
   "cell_type": "code",
   "execution_count": 16,
   "id": "56c46878-a541-4950-ba68-3dbee9cbda1d",
   "metadata": {},
   "outputs": [
    {
     "data": {
      "text/plain": [
       "False"
      ]
     },
     "execution_count": 16,
     "metadata": {},
     "output_type": "execute_result"
    }
   ],
   "source": [
    "conn.close()\n",
    "cursor.close()"
   ]
  },
  {
   "cell_type": "code",
   "execution_count": null,
   "id": "12dd67c0-f0cf-4eea-93fe-9764be690dca",
   "metadata": {},
   "outputs": [],
   "source": []
  }
 ],
 "metadata": {
  "kernelspec": {
   "display_name": "Python 3 (ipykernel)",
   "language": "python",
   "name": "python3"
  },
  "language_info": {
   "codemirror_mode": {
    "name": "ipython",
    "version": 3
   },
   "file_extension": ".py",
   "mimetype": "text/x-python",
   "name": "python",
   "nbconvert_exporter": "python",
   "pygments_lexer": "ipython3",
   "version": "3.11.5"
  }
 },
 "nbformat": 4,
 "nbformat_minor": 5
}
